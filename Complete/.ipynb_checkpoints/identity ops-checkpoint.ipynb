{
 "cells": [
  {
   "cell_type": "code",
   "execution_count": 9,
   "id": "10b223bd",
   "metadata": {},
   "outputs": [],
   "source": [
    "x = 1000\n",
    "y = 1"
   ]
  },
  {
   "cell_type": "code",
   "execution_count": 10,
   "id": "d4c8ee2a",
   "metadata": {},
   "outputs": [
    {
     "data": {
      "text/plain": [
       "False"
      ]
     },
     "execution_count": 10,
     "metadata": {},
     "output_type": "execute_result"
    }
   ],
   "source": [
    "x == y ## comparing VALUES"
   ]
  },
  {
   "cell_type": "code",
   "execution_count": 11,
   "id": "5b853a12",
   "metadata": {},
   "outputs": [
    {
     "data": {
      "text/plain": [
       "False"
      ]
     },
     "execution_count": 11,
     "metadata": {},
     "output_type": "execute_result"
    }
   ],
   "source": [
    "x is y ## comparing VARIABLES (MEMORY ADDRESS)"
   ]
  },
  {
   "cell_type": "code",
   "execution_count": 12,
   "id": "2d11bcdc",
   "metadata": {},
   "outputs": [
    {
     "data": {
      "text/plain": [
       "140707958628096"
      ]
     },
     "execution_count": 12,
     "metadata": {},
     "output_type": "execute_result"
    }
   ],
   "source": [
    "id(x)\n",
    "id(y)"
   ]
  },
  {
   "cell_type": "code",
   "execution_count": null,
   "id": "003f24a1",
   "metadata": {},
   "outputs": [],
   "source": []
  }
 ],
 "metadata": {
  "kernelspec": {
   "display_name": "Python 3 (ipykernel)",
   "language": "python",
   "name": "python3"
  },
  "language_info": {
   "codemirror_mode": {
    "name": "ipython",
    "version": 3
   },
   "file_extension": ".py",
   "mimetype": "text/x-python",
   "name": "python",
   "nbconvert_exporter": "python",
   "pygments_lexer": "ipython3",
   "version": "3.8.12"
  }
 },
 "nbformat": 4,
 "nbformat_minor": 5
}
