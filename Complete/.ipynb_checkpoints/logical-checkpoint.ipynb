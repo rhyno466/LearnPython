{
 "cells": [
  {
   "cell_type": "code",
   "execution_count": 6,
   "id": "cfb1ed12",
   "metadata": {},
   "outputs": [
    {
     "data": {
      "text/plain": [
       "True"
      ]
     },
     "execution_count": 6,
     "metadata": {},
     "output_type": "execute_result"
    }
   ],
   "source": [
    "0.0 == False"
   ]
  },
  {
   "cell_type": "code",
   "execution_count": 9,
   "id": "27075849",
   "metadata": {
    "scrolled": false
   },
   "outputs": [
    {
     "name": "stdout",
     "output_type": "stream",
     "text": [
      "False\n",
      "False\n",
      "False\n",
      "True\n"
     ]
    }
   ],
   "source": [
    "print(bool(''))\n",
    "print('' == True)\n",
    "print(bool('') == True)\n",
    "print(bool('') == False)"
   ]
  },
  {
   "cell_type": "code",
   "execution_count": 15,
   "id": "bcd4ae78",
   "metadata": {},
   "outputs": [
    {
     "data": {
      "text/plain": [
       "True"
      ]
     },
     "execution_count": 15,
     "metadata": {},
     "output_type": "execute_result"
    }
   ],
   "source": [
    "x = 4\n",
    "y = 5\n",
    "\n",
    "not x == 5 or y == 4"
   ]
  },
  {
   "cell_type": "code",
   "execution_count": 17,
   "id": "3f6ff23d",
   "metadata": {},
   "outputs": [
    {
     "data": {
      "text/plain": [
       "False"
      ]
     },
     "execution_count": 17,
     "metadata": {},
     "output_type": "execute_result"
    }
   ],
   "source": [
    "False == True"
   ]
  },
  {
   "cell_type": "code",
   "execution_count": 19,
   "id": "ecb14ec0",
   "metadata": {},
   "outputs": [
    {
     "data": {
      "text/plain": [
       "False"
      ]
     },
     "execution_count": 19,
     "metadata": {},
     "output_type": "execute_result"
    }
   ],
   "source": [
    "empty_str = ''\n",
    "\n",
    "empty_str == False"
   ]
  },
  {
   "cell_type": "code",
   "execution_count": 21,
   "id": "67f0c0ff",
   "metadata": {},
   "outputs": [
    {
     "data": {
      "text/plain": [
       "True"
      ]
     },
     "execution_count": 21,
     "metadata": {},
     "output_type": "execute_result"
    }
   ],
   "source": [
    "bool(empty_str) == False"
   ]
  },
  {
   "cell_type": "code",
   "execution_count": 22,
   "id": "b1d6b444",
   "metadata": {},
   "outputs": [
    {
     "data": {
      "text/plain": [
       "False"
      ]
     },
     "execution_count": 22,
     "metadata": {},
     "output_type": "execute_result"
    }
   ],
   "source": [
    "bool(empty_str)"
   ]
  },
  {
   "cell_type": "code",
   "execution_count": null,
   "id": "494ef020",
   "metadata": {},
   "outputs": [],
   "source": []
  }
 ],
 "metadata": {
  "kernelspec": {
   "display_name": "Python 3 (ipykernel)",
   "language": "python",
   "name": "python3"
  },
  "language_info": {
   "codemirror_mode": {
    "name": "ipython",
    "version": 3
   },
   "file_extension": ".py",
   "mimetype": "text/x-python",
   "name": "python",
   "nbconvert_exporter": "python",
   "pygments_lexer": "ipython3",
   "version": "3.8.12"
  }
 },
 "nbformat": 4,
 "nbformat_minor": 5
}
